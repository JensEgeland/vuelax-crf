{
 "cells": [
  {
   "cell_type": "markdown",
   "metadata": {},
   "source": [
    "## Obtaining our ground thruth  \n",
    "\n",
    "Now, since this is a supervised algorithm, we need to obtain some true labels for our sentences. While there are [online tools](https://doccano.herokuapp.com/) to perform this task, I decided to go more old school with a simple CSV file with a format more or less like this:\n",
    "\n",
    "| Offer Id | Token | Position | POS | Label |  \n",
    "|--------  |-----  |--------- |---- |------ |\n",
    "| 0 | ¡ | 0 | faa | [USER LABEL] |  \n",
    "| 0 | CUN | 1 | np00000 | [USER LABEL] |  \n",
    "| 0 | a | 5 | sp000 | [USER LABEL] |  \n",
    "| 0 | Ámsterdam | 7 | np00000 | [USER LABEL] |  \n",
    "| 0 | $ | 17 | zm | [USER LABEL] |  \n",
    "| 0 | 8,960 | 18 | dn0000 | [USER LABEL] |  \n",
    "| 0 | ! | 23 | fat | [USER LABEL] |  \n",
    "| 0 | Sin | 25 | sp000 | [USER LABEL] |  \n",
    "| 0 | escala | 29 | nc0s000 | [USER LABEL] |  \n",
    "| 0 | en | 36 | sp000 | [USER LABEL] |  \n",
    "| 0 | EE.UU | 39 | np00000 | [USER LABEL] |   \n",
    "\n",
    "Where the values of the column marked with `[USER LABEL]` should be defined by the expert users who will help us in labelling our data."
   ]
  },
  {
   "cell_type": "code",
   "execution_count": null,
   "metadata": {},
   "outputs": [],
   "source": [
    "from tqdm.notebook import trange, tqdm\n",
    "import csv"
   ]
  },
  {
   "cell_type": "code",
   "execution_count": null,
   "metadata": {},
   "outputs": [],
   "source": [
    "path_for_data_to_label = \"data/to_label.csv\"\n",
    "\n",
    "with open(path_for_data_to_label, \"w\") as w:\n",
    "    writer = csv.writer(w)\n",
    "    writer.writerow(['offer_id', 'token', 'position', 'pos_tag', 'label'])\n",
    "    \n",
    "    for offer_id, row in tqdm(vuelos.iterrows(), total=len(vuelos)):\n",
    "        tokens, positions = index_emoji_tokenize(row[\"label\"], return_flags=True)\n",
    "        tags = spanish_postagger.tag(tokens)\n",
    "        for  token, position, (_, pos_tag) in zip(tokens, positions, tags):\n",
    "            writer.writerow([\n",
    "                offer_id,\n",
    "                token,\n",
    "                position,\n",
    "                pos_tag,\n",
    "                None\n",
    "            ])\n",
    "        "
   ]
  },
  {
   "cell_type": "markdown",
   "metadata": {},
   "source": [
    "The file that needs to be labelled is located at `data/to_label.csv`"
   ]
  },
  {
   "cell_type": "markdown",
   "metadata": {},
   "source": [
    "## Can we make this easy?\n",
    "\n",
    "I have gone through the *\"pains\"* of labelling some data myself, the labels are stored in the file `data/to_label-done.csv`."
   ]
  },
  {
   "cell_type": "code",
   "execution_count": null,
   "metadata": {},
   "outputs": [],
   "source": []
  }
 ],
 "metadata": {
  "kernelspec": {
   "display_name": "Python 3",
   "language": "python",
   "name": "python3"
  },
  "language_info": {
   "codemirror_mode": {
    "name": "ipython",
    "version": 3
   },
   "file_extension": ".py",
   "mimetype": "text/x-python",
   "name": "python",
   "nbconvert_exporter": "python",
   "pygments_lexer": "ipython3",
   "version": "3.8.0"
  }
 },
 "nbformat": 4,
 "nbformat_minor": 4
}
