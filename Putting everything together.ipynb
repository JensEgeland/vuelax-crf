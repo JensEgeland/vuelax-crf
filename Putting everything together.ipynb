{
 "cells": [
  {
   "cell_type": "markdown",
   "metadata": {},
   "source": [
    "This notebooks \"borrows\" functions from all other notebooks, these functions were replicated somewhere inside the `vuelax` packages and are imported to make them less messy to work with."
   ]
  },
  {
   "cell_type": "markdown",
   "metadata": {},
   "source": [
    "## We've got a new offer!\n",
    "\n",
    "Imagine getting a new offer that looks like this:  \n",
    "\n",
    " > ¡Sin pasar EE.UU! 🇪🇬¡Todo México a El Cairo, Egipto $13,677!"
   ]
  },
  {
   "cell_type": "code",
   "execution_count": null,
   "metadata": {},
   "outputs": [],
   "source": [
    "offer_text = \"¡Sin pasar EE.UU! 🇪🇬¡Todo México a El Cairo, Egipto $13,677!\""
   ]
  },
  {
   "cell_type": "markdown",
   "metadata": {},
   "source": [
    "**Tokenise**: the first step was to tokenise it, by using our `index_emoji_tokenize` function"
   ]
  },
  {
   "cell_type": "code",
   "execution_count": null,
   "metadata": {},
   "outputs": [],
   "source": [
    "from vuelax.tokenisation import index_emoji_tokenize\n",
    "\n",
    "tokens, positions = index_emoji_tokenize(offer_text)\n",
    "\n",
    "print(tokens)"
   ]
  },
  {
   "cell_type": "markdown",
   "metadata": {},
   "source": [
    "**POS Tagging**: the next thing in line is to obtain the POS tags corresponding to each one of the tokens. We can do this by using the `StanfordPOSTagger`:"
   ]
  },
  {
   "cell_type": "code",
   "execution_count": null,
   "metadata": {},
   "outputs": [],
   "source": [
    "from nltk.tag.stanford import StanfordPOSTagger\n",
    "\n",
    "spanish_postagger = StanfordPOSTagger('stanford-models/spanish.tagger', \n",
    "                                      'stanford-models/stanford-postagger.jar')"
   ]
  },
  {
   "cell_type": "code",
   "execution_count": null,
   "metadata": {},
   "outputs": [],
   "source": [
    "_, pos_tags = zip(*spanish_postagger.tag(tokens))\n",
    "pos_tags"
   ]
  },
  {
   "cell_type": "markdown",
   "metadata": {},
   "source": [
    "**Prepare for the CRF**: This step involves adding more features and preparing the data to be consumed by the CRF package. All the required methods exist in `vuelax.feature_selection`"
   ]
  },
  {
   "cell_type": "code",
   "execution_count": null,
   "metadata": {},
   "outputs": [],
   "source": [
    "from vuelax.feature_selection import featurise_sentence\n",
    "\n",
    "features = featurise_sentence(tokens, positions, pos_tags)\n",
    "\n",
    "print(features[0])"
   ]
  },
  {
   "cell_type": "markdown",
   "metadata": {},
   "source": [
    "**Sequence labelling with pycrfsuite**: And the final step is to load our trained model and tag our sequence:"
   ]
  },
  {
   "cell_type": "code",
   "execution_count": null,
   "metadata": {},
   "outputs": [],
   "source": [
    "import pycrfsuite\n",
    "\n",
    "crf_tagger = pycrfsuite.Tagger()\n",
    "crf_tagger.open('model/vuelax-bad.crfsuite')"
   ]
  },
  {
   "cell_type": "code",
   "execution_count": null,
   "metadata": {},
   "outputs": [],
   "source": [
    "assigned_tags = crf_tagger.tag(features)"
   ]
  },
  {
   "cell_type": "markdown",
   "metadata": {},
   "source": [
    "### Results"
   ]
  },
  {
   "cell_type": "code",
   "execution_count": null,
   "metadata": {},
   "outputs": [],
   "source": [
    "for assigned_tag, token in zip(assigned_tags, tokens):\n",
    "    print(f\"{assigned_tag} - {token}\")"
   ]
  },
  {
   "cell_type": "markdown",
   "metadata": {},
   "source": [
    "By visual inspection we can confirm that the tags are correct: \"Todo México\" is the origin (o), \"El Cairo, Egipto\" is the destination and \"13,677\" is the price (p)."
   ]
  },
  {
   "cell_type": "markdown",
   "metadata": {},
   "source": [
    "### What else is there to do?  \n",
    "\n",
    "There are many ways this project could be improved, a few that come to mind:  \n",
    "    \n",
    " - Improve the size/quality of the dataset by labelling more examples\n",
    " - Improve the way the labelling happens, using a single spreadsheet does not scale at all\n",
    " - Integrate everything under a single processing pipeline\n",
    " - \"Productionify\" the code, go beyond an experiment."
   ]
  },
  {
   "cell_type": "code",
   "execution_count": null,
   "metadata": {},
   "outputs": [],
   "source": []
  }
 ],
 "metadata": {
  "kernelspec": {
   "display_name": "Python 3",
   "language": "python",
   "name": "python3"
  },
  "language_info": {
   "codemirror_mode": {
    "name": "ipython",
    "version": 3
   },
   "file_extension": ".py",
   "mimetype": "text/x-python",
   "name": "python",
   "nbconvert_exporter": "python",
   "pygments_lexer": "ipython3",
   "version": "3.8.0"
  }
 },
 "nbformat": 4,
 "nbformat_minor": 4
}
